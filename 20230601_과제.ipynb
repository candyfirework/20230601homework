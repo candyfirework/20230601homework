{
  "nbformat": 4,
  "nbformat_minor": 0,
  "metadata": {
    "colab": {
      "provenance": [],
      "authorship_tag": "ABX9TyMjqUlQeEGfq91hylf/0oi2",
      "include_colab_link": true
    },
    "kernelspec": {
      "name": "python3",
      "display_name": "Python 3"
    },
    "language_info": {
      "name": "python"
    }
  },
  "cells": [
    {
      "cell_type": "markdown",
      "metadata": {
        "id": "view-in-github",
        "colab_type": "text"
      },
      "source": [
        "<a href=\"https://colab.research.google.com/github/candyfirework/20230601homework/blob/master/20230601_%EA%B3%BC%EC%A0%9C.ipynb\" target=\"_parent\"><img src=\"https://colab.research.google.com/assets/colab-badge.svg\" alt=\"Open In Colab\"/></a>"
      ]
    },
    {
      "cell_type": "code",
      "execution_count": 108,
      "metadata": {
        "id": "YLRCvNQ46zpX"
      },
      "outputs": [],
      "source": [
        "# 지니 차트 200위까지 크롤링\n",
        "# 반복문을 사용하여 크롤링\n",
        "# 수집한 데이터를 데이터프레임으로 저장\n",
        "# 엑셀로 출력\n",
        "# 과제는 github로 내보내기"
      ]
    },
    {
      "cell_type": "code",
      "source": [
        "import requests\n",
        "from bs4 import BeautifulSoup"
      ],
      "metadata": {
        "id": "4vijnWim7X1P"
      },
      "execution_count": 109,
      "outputs": []
    },
    {
      "cell_type": "code",
      "source": [
        "header = {'User-Agent': 'Mozilla/5.0 (Windows NT 10.0; Win64; x64)'}"
      ],
      "metadata": {
        "id": "AKU-UIT07o4K"
      },
      "execution_count": 110,
      "outputs": []
    },
    {
      "cell_type": "code",
      "source": [
        "#request = requests.get('https://www.genie.co.kr/chart/top200',headers=header)\n",
        "#soup = BeautifulSoup(request.text)\n",
        "#print(request)"
      ],
      "metadata": {
        "id": "Y53V7jj664ZO"
      },
      "execution_count": 111,
      "outputs": []
    },
    {
      "cell_type": "code",
      "source": [
        "#soup = BeautifulSoup(request.text)"
      ],
      "metadata": {
        "id": "U3gAWmMi65tc"
      },
      "execution_count": 112,
      "outputs": []
    },
    {
      "cell_type": "code",
      "source": [
        "#music_wrap =soup.find('table',{'class':'list-wrap'})\n",
        "#music_wrap = soup.findAll('table', {'class': 'list-wrap'})\n",
        "#music_list = soup.findAll('tr', {'class': 'list'})  "
      ],
      "metadata": {
        "id": "Z3mVX8JC8t-F"
      },
      "execution_count": 113,
      "outputs": []
    },
    {
      "cell_type": "code",
      "source": [
        "#list =soup. findAll('tr',{'class':'list'})"
      ],
      "metadata": {
        "id": "n_4j-c8--EUh"
      },
      "execution_count": 114,
      "outputs": []
    },
    {
      "cell_type": "code",
      "source": [
        "#titles = soup.findAll('a', {'class': 'title ellipsis'})\n",
        "#artists = soup.findAll('a', {'class': 'artist ellipsis'})\n",
        "#titles = soup.select('a.title.ellipsis')\n",
        "#artists = soup.select('a.artist.ellipsis')"
      ],
      "metadata": {
        "id": "QuUn9RE066zH"
      },
      "execution_count": 115,
      "outputs": []
    },
    {
      "cell_type": "code",
      "source": [
        "#for i, (t, a) in enumerate(zip(titles, artists)):\n",
        "    #title = t.text.strip()\n",
        "    #artist = a.text.strip()\n",
        "    #print('{0:3d}위 {1}-{2}'.format(i + 1, artist, title))"
      ],
      "metadata": {
        "id": "3phtU4tX67-P"
      },
      "execution_count": 116,
      "outputs": []
    },
    {
      "cell_type": "code",
      "source": [
        "#import requests\n",
        "#from bs4 import BeautifulSoup\n",
        "#\n",
        "#header = {'User-Agent': 'Mozilla/5.0 (Windows NT 10.0; Win64; x64)'}\n",
        "#request = requests.get('https://www.genie.co.kr/chart/top200', headers=header)\n",
        "#soup = BeautifulSoup(request.text, 'html.parser')\n",
        "#songs = soup.select('tbody > tr')\n",
        "#\n",
        "#for i, song in enumerate(songs):\n",
        "#    title = song.select_one('a.title').text.strip()\n",
        "#    artist = song.select_one('a.artist').text.strip()\n",
        "#    print('{0:3d}위 {1}-{2}'.format(i + 1, artist, title))"
      ],
      "metadata": {
        "id": "PuVP0T-MAg5Z"
      },
      "execution_count": 117,
      "outputs": []
    },
    {
      "cell_type": "code",
      "source": [
        "songs_list=[]\n",
        "for page in range(1, 5):  # 4 페이지까지 반복 (1페이지당 50곡)\n",
        "    request = requests.get(f'https://www.genie.co.kr/chart/top200?ditc=D&ymd=20230601&hh=16&rtm=Y&pg={page}', headers=header)\n",
        "    soup = BeautifulSoup(request.text, 'html.parser')\n",
        "    songs = soup.select('tbody > tr')\n",
        "\n",
        "    for i, song in enumerate(songs):\n",
        "        title = song.select_one('a.title').text.strip()\n",
        "        artist = song.select_one('a.artist').text.strip()\n",
        "        rank = (page - 1) * 50 + i + 1\n",
        "        print('{0:3d}위 {1}-{2}'.format(rank, artist, title))\n",
        "        song_info = {'Rank': rank, 'Artist': artist, 'Title': title}\n",
        "        songs_list.append(song_info)"
      ],
      "metadata": {
        "colab": {
          "base_uri": "https://localhost:8080/"
        },
        "id": "86tk5dbjBMpr",
        "outputId": "764e9866-4053-4a70-9f9b-2f40f436f425"
      },
      "execution_count": 127,
      "outputs": [
        {
          "output_type": "stream",
          "name": "stdout",
          "text": [
            "  1위 (여자)아이들-퀸카 (Queencard)\n",
            "  2위 IVE (아이브)-I AM\n",
            "  3위 aespa-Spicy\n",
            "  4위 LE SSERAFIM (르세라핌)-UNFORGIVEN (Feat. Nile Rodgers)\n",
            "  5위 IVE (아이브)-Kitsch\n",
            "  6위 지수 (JISOO)-꽃\n",
            "  7위 NewJeans-Hype boy\n",
            "  8위 NewJeans-Ditto\n",
            "  9위 세븐틴 (SEVENTEEN)-손오공\n",
            " 10위 윤하 (YOUNHA)-사건의 지평선\n",
            " 11위 FIFTY FIFTY-Cupid\n",
            " 12위 임영웅-사랑은 늘 도망가\n",
            " 13위 Charlie Puth-I Don't Think That I Like Her\n",
            " 14위 STAYC (스테이씨)-Teddy Bear\n",
            " 15위 DK (디셈버)-심 (心)\n",
            " 16위 임영웅-우리들의 블루스\n",
            " 17위 IVE (아이브)-After LIKE\n",
            " 18위 NewJeans-OMG\n",
            " 19위 임영웅-이제 나만 믿어요\n",
            " 20위 임영웅-London Boy\n",
            " 21위 Charlie Puth-Dangerously\n",
            " 22위 부석순 (SEVENTEEN)-파이팅 해야지 (Feat. 이영지)\n",
            " 23위 박재정-헤어지자 말해요\n",
            " 24위 임영웅-다시 만날 수 있을까\n",
            " 25위 임영웅-Polaroid\n",
            " 26위 임영웅-무지개\n",
            " 27위 Zior Park-CHRISTIAN\n",
            " 28위 IVE (아이브)-LOVE DIVE\n",
            " 29위 LE SSERAFIM (르세라핌)-이브, 프시케 그리고 푸른 수염의 아내\n",
            " 30위 NewJeans-Attention\n",
            " 31위 임영웅-아버지\n",
            " 32위 LE SSERAFIM (르세라핌)-ANTIFRAGILE\n",
            " 33위 임영웅-A bientot\n",
            " 34위 임영웅-손이 참 곱던 그대\n",
            " 35위 임영웅-사랑해 진짜\n",
            " 36위 임영웅-연애편지\n",
            " 37위 imase-NIGHT DANCER\n",
            " 38위 H1-KEY (하이키)-건물 사이에 피어난 장미\n",
            " 39위 멜로망스 (MeloMance)-사랑인가 봐\n",
            " 40위 임영웅-인생찬가\n",
            " 41위 임영웅-보금자리\n",
            " 42위 허각-물론\n",
            " 43위 Charlie Puth-That's Hilarious\n",
            " 44위 Alan Walker-The Drum\n",
            " 45위 (여자)아이들-TOMBOY\n",
            " 46위 테이 (Tei)-Monologue\n",
            " 47위 임재현-Heaven (2023)\n",
            " 48위 던 (DAWN)-빛이 나는 너에게\n",
            " 49위 이채연-KNOCK\n",
            " 50위 방탄소년단-Dynamite\n",
            " 51위 비투비-나의 바람 (Wind And Wish)\n",
            " 52위 BLACKPINK-Shut Down\n",
            " 53위 (여자)아이들-Nxde\n",
            " 54위 (여자)아이들-Allergy\n",
            " 55위 김민석 (멜로망스)-취중고백\n",
            " 56위 NewJeans-Cookie\n",
            " 57위 경서예지 & 전건호-다정히 내 이름을 부르면\n",
            " 58위 10CM-그라데이션\n",
            " 59위 지아 (Zia)-사랑..그게 뭔데\n",
            " 60위 지코 (ZICO)-새삥 (Prod. by ZICO) (Feat. 호미들)\n",
            " 61위 The Kid LAROI & Justin Bieber-Stay\n",
            " 62위 멜로망스 (MeloMance)-찬란한 하루\n",
            " 63위 Christopher & 청하-When I Get Old\n",
            " 64위 WSG워너비 (가야G)-그때 그 순간 그대로 (그그그)\n",
            " 65위 경서-나의 X에게\n",
            " 66위 BLACKPINK-Pink Venom\n",
            " 67위 성시경-너의 모든 순간\n",
            " 68위 #안녕-해요 (2022)\n",
            " 69위 윤하 (YOUNHA)-오르트구름\n",
            " 70위 Peder Elias-Loving You Girl (Feat. Hkeem)\n",
            " 71위 IVE (아이브)-ELEVEN\n",
            " 72위 지아 (Zia)-사랑하기 싫어\n",
            " 73위 aespa-Thirsty\n",
            " 74위 아이유 (IU)-Blueming\n",
            " 75위 주호-내가 아니라도\n",
            " 76위 LE SSERAFIM (르세라핌)-FEARLESS\n",
            " 77위 아이유 (IU)-에잇 (Prod. & Feat. SUGA of BTS)\n",
            " 78위 잔나비-주저하는 연인들을 위해\n",
            " 79위 이무진-잠깐 시간 될까\n",
            " 80위 경서-첫 키스에 내 심장은 120BPM\n",
            " 81위 Anne-Marie-2002\n",
            " 82위 BIG Naughty (서동현)-정이라고 하자 (Feat. 10CM)\n",
            " 83위 정국 & 방탄소년단-Dreamers (Music from the FIFA World Cup Qatar 2022 Official Soundtrack) (Feat. FIFA Sound)\n",
            " 84위 WSG워너비 (4FIRE)-보고싶었어\n",
            " 85위 방탄소년단-Butter\n",
            " 86위 폴킴-모든 날, 모든 순간 (Every day, Every Moment)\n",
            " 87위 Sam Smith & Kim Petras-Unholy\n",
            " 88위 방탄소년단-봄날\n",
            " 89위 태양-VIBE (Feat. Jimin of BTS)\n",
            " 90위 Mina Okabe-Every Second\n",
            " 91위 이무진-신호등\n",
            " 92위 DAY6 (데이식스)-예뻤어\n",
            " 93위 태연 (TAEYEON)-INVU\n",
            " 94위 Justin Bieber-Off My Face\n",
            " 95위 아이유 (IU)-strawberry moon\n",
            " 96위 NCT DREAM-Candy\n",
            " 97위 BIGBANG (빅뱅)-봄여름가을겨울 (Still Life)\n",
            " 98위 이영지-NOT SORRY (Feat. pH-1) (Prod. by Slom)\n",
            " 99위 김필-다시 사랑한다면 (니글니글 버터플라이)\n",
            "100위 경서-밤하늘의 별을 (2020)\n",
            "101위 우디 (Woody)-Say I Love You\n",
            "102위 주주 시크릿-밤이 무서워요 (Lonely Night)\n",
            "103위 10CM & BIG Naughty (서동현)-딱 10CM만\n",
            "104위 Ed Sheeran-Bad Habits\n",
            "105위 Aimyon-Ai Wo Tsutaetaidatoka\n",
            "106위 성시경-희재\n",
            "107위 헤이즈 (Heize)-빙글빙글 (Prod. by R.Tee)\n",
            "108위 김호중-그중에 그대를 만나\n",
            "109위 NMIXX-Love Me Like This\n",
            "110위 BE'O (비오)-LOVE me\n",
            "111위 장범준-흔들리는 꽃들 속에서 네 샴푸향이 느껴진거야\n",
            "112위 우디 (Woody)-Nostalgia\n",
            "113위 Charlie Puth-That's Not How This Works (Feat. Dan ＋ Shay)\n",
            "114위 Crush-Rush Hour (Feat. j-hope of BTS)\n",
            "115위 이홍기 (FT아일랜드)-한사람만 (2023) (여름날 우리 X 이홍기 (FT아일랜드))\n",
            "116위 김호중 & 송가인-당신을 만나\n",
            "117위 볼빨간사춘기-FRIEND THE END\n",
            "118위 지코 (ZICO)-SoulMate (Feat. 아이유)\n",
            "119위 싸이 (Psy)-That That (Prod. & Feat. SUGA of BTS)\n",
            "120위 BE'O (비오)-자격지심 (Feat. ZICO)\n",
            "121위 지민-Like Crazy\n",
            "122위 V.O.S-안녕이라고 말하지마\n",
            "123위 김호중-나의 목소리로\n",
            "124위 Christopher-Bad\n",
            "125위 볼빨간사춘기-여행\n",
            "126위 Pink Sweat$-At My Worst\n",
            "127위 이우-상록수\n",
            "128위 임한별-사랑하지 않아서 그랬어\n",
            "129위 폴킴-한강에서 (Feat. BIG Naughty)\n",
            "130위 김승민-내 기쁨은 너가 벤틀리를 끄는 거야\n",
            "131위 방탄소년단-Permission to Dance\n",
            "132위 DK (디셈버)-발걸음\n",
            "133위 태연 (TAEYEON)-Weekend\n",
            "134위 김호중-나보다 더 사랑해요\n",
            "135위 aespa-Next Level\n",
            "136위 세븐틴 (SEVENTEEN)-F*ck My Life\n",
            "137위 볼빨간사춘기-Love story\n",
            "138위 임한별-떠나보낼 준비해 둘걸 그랬어\n",
            "139위 황인욱-이 새벽에 전화하는 건\n",
            "140위 마크툽 (Maktub)-오늘도 빛나는 너에게 (To You My Light) (Feat.이라온)\n",
            "141위 Kelly Clarkson-Stronger (What Doesn't Kill You)\n",
            "142위 김호중-주마등\n",
            "143위 멜로망스 (MeloMance)-고백\n",
            "144위 김호중-만개 (Prod. 신지후)\n",
            "145위 아이유 (IU)-내 손을 잡아\n",
            "146위 AKMU (악뮤)-어떻게 이별까지 사랑하겠어, 널 사랑하는 거지\n",
            "147위 김호중-빛이 나는 사람\n",
            "148위 디핵 (D-Hack) & PATEKO-OHAYO MY NIGHT\n",
            "149위 Charlie Puth & 정국 & 방탄소년단-Left and Right (Feat. Jung Kook of BTS)\n",
            "150위 DAY6 (데이식스)-한 페이지가 될 수 있게\n",
            "151위 Agust D-사람 Pt.2 (Feat. 아이유)\n",
            "152위 김호중-인생은 뷰티풀\n",
            "153위 10CM-부동의 첫사랑\n",
            "154위 에일리 (Ailee)-첫눈처럼 너에게 가겠다\n",
            "155위 비투비-그리워하다\n",
            "156위 방탄소년단-Yet To Come\n",
            "157위 다비치-My Man\n",
            "158위 MSG워너비 (M.O.M)-바라만 본다\n",
            "159위 지민-Angel Pt. 1 (Feat. JVKE & Muni Long) (FAST X Soundtrack)\n",
            "160위 백예린 (Yerin Baek)-Square (2017)\n",
            "161위 헤이즈 (Heize)-헤픈 우연\n",
            "162위 Meghan Trainor-Made You Look\n",
            "163위 Sam Ryder-Tiny Riot\n",
            "164위 etham-12 : 45 (Stripped)\n",
            "165위 Ed Sheeran-Shape Of You\n",
            "166위 aespa-Salty & Sweet\n",
            "167위 아이유 (IU)-Celebrity\n",
            "168위 오마이걸 (OH MY GIRL)-Dolphin\n",
            "169위 마크툽 (Maktub)-찰나가 영원이 될 때 (The Eternal Moment)\n",
            "170위 김호중-슬픈등\n",
            "171위 다비치-팡파레\n",
            "172위 김호중-약속 (約束)\n",
            "173위 aespa-도깨비불 (Illusion)\n",
            "174위 Red Velvet (레드벨벳)-Feel My Rhythm\n",
            "175위 아이유 (IU)-라일락\n",
            "176위 폴킴-있잖아\n",
            "177위 Maroon 5-Memories\n",
            "178위 조정석-아로하\n",
            "179위 주호-잘가요\n",
            "180위 (여자)아이들-MY BAG\n",
            "181위 강민경 (다비치) & 잔나비 최정훈-우린 그렇게 사랑해서\n",
            "182위 Dan ＋ Shay & Justin Bieber-10,000 Hours\n",
            "183위 Benson Boone-GHOST TOWN\n",
            "184위 김호중-Il Mare Calmo Della Sera\n",
            "185위 세븐틴 (SEVENTEEN)-HOT\n",
            "186위 한동근-새벽에 걸려온 너의 전화는\n",
            "187위 Standing Egg (스탠딩 에그)-오래된 노래\n",
            "188위 아이유 (IU)-삐삐\n",
            "189위 김호중-그리움의 계절\n",
            "190위 OneRepublic-I Ain't Worried\n",
            "191위 박재범-좋아 (JOAH)\n",
            "192위 이창섭-사랑했나봐\n",
            "193위 이찬원-풍등\n",
            "194위 먼데이 키즈 (Monday Kiz) & #안녕-이 세상 끝까지\n",
            "195위 송하예-그대를 알고\n",
            "196위 sokodomo-회전목마 (Feat. Zion.T & 원슈타인) (Prod. by Slom)\n",
            "197위 #안녕-너의 번호를 누르고 (Prod. by 영화처럼)\n",
            "198위 방탄소년단-The Planet\n",
            "199위 SURAN (수란)-오늘 취하면 (Feat. 창모) (Prod. by SUGA)\n",
            "200위 비투비-너 없인 안 된다\n"
          ]
        }
      ]
    },
    {
      "cell_type": "code",
      "source": [
        "import pandas as pd"
      ],
      "metadata": {
        "id": "XrJCw00jBTOu"
      },
      "execution_count": 128,
      "outputs": []
    },
    {
      "cell_type": "code",
      "source": [
        "df = pd.DataFrame(songs_list)"
      ],
      "metadata": {
        "id": "ckbf1XWNBVWt"
      },
      "execution_count": 129,
      "outputs": []
    },
    {
      "cell_type": "code",
      "source": [
        "df.to_excel('top200_chart.xlsx', index=False)"
      ],
      "metadata": {
        "id": "_xszTiJzBXST"
      },
      "execution_count": 130,
      "outputs": []
    },
    {
      "cell_type": "code",
      "source": [],
      "metadata": {
        "id": "o4pCSGt9CT62"
      },
      "execution_count": 118,
      "outputs": []
    }
  ]
}